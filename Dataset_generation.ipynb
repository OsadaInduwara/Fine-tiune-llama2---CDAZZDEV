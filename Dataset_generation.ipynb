{
  "nbformat": 4,
  "nbformat_minor": 0,
  "metadata": {
    "colab": {
      "provenance": [],
      "authorship_tag": "ABX9TyMNU6cudrJKMBghs9g6ouHP",
      "include_colab_link": true
    },
    "kernelspec": {
      "name": "python3",
      "display_name": "Python 3"
    },
    "language_info": {
      "name": "python"
    }
  },
  "cells": [
    {
      "cell_type": "markdown",
      "metadata": {
        "id": "view-in-github",
        "colab_type": "text"
      },
      "source": [
        "<a href=\"https://colab.research.google.com/github/OsadaInduwara/Fine-tiune-llama2---CDAZZDEV/blob/main/Dataset_generation.ipynb\" target=\"_parent\"><img src=\"https://colab.research.google.com/assets/colab-badge.svg\" alt=\"Open In Colab\"/></a>"
      ]
    },
    {
      "cell_type": "markdown",
      "source": [
        "### **Creating the dataset to train the LLM**"
      ],
      "metadata": {
        "id": "dqotn016KGB3"
      }
    },
    {
      "cell_type": "code",
      "source": [
        "pip install openai==0.28"
      ],
      "metadata": {
        "colab": {
          "base_uri": "https://localhost:8080/"
        },
        "id": "LZnVhQbpHVQ3",
        "outputId": "347236ed-b637-4f4b-8b0f-aa0a45ff2ad1"
      },
      "execution_count": 2,
      "outputs": [
        {
          "output_type": "stream",
          "name": "stdout",
          "text": [
            "Collecting openai==0.28\n",
            "  Downloading openai-0.28.0-py3-none-any.whl.metadata (13 kB)\n",
            "Requirement already satisfied: requests>=2.20 in /usr/local/lib/python3.10/dist-packages (from openai==0.28) (2.31.0)\n",
            "Requirement already satisfied: tqdm in /usr/local/lib/python3.10/dist-packages (from openai==0.28) (4.66.4)\n",
            "Requirement already satisfied: aiohttp in /usr/local/lib/python3.10/dist-packages (from openai==0.28) (3.9.5)\n",
            "Requirement already satisfied: charset-normalizer<4,>=2 in /usr/local/lib/python3.10/dist-packages (from requests>=2.20->openai==0.28) (3.3.2)\n",
            "Requirement already satisfied: idna<4,>=2.5 in /usr/local/lib/python3.10/dist-packages (from requests>=2.20->openai==0.28) (3.7)\n",
            "Requirement already satisfied: urllib3<3,>=1.21.1 in /usr/local/lib/python3.10/dist-packages (from requests>=2.20->openai==0.28) (2.0.7)\n",
            "Requirement already satisfied: certifi>=2017.4.17 in /usr/local/lib/python3.10/dist-packages (from requests>=2.20->openai==0.28) (2024.7.4)\n",
            "Requirement already satisfied: aiosignal>=1.1.2 in /usr/local/lib/python3.10/dist-packages (from aiohttp->openai==0.28) (1.3.1)\n",
            "Requirement already satisfied: attrs>=17.3.0 in /usr/local/lib/python3.10/dist-packages (from aiohttp->openai==0.28) (23.2.0)\n",
            "Requirement already satisfied: frozenlist>=1.1.1 in /usr/local/lib/python3.10/dist-packages (from aiohttp->openai==0.28) (1.4.1)\n",
            "Requirement already satisfied: multidict<7.0,>=4.5 in /usr/local/lib/python3.10/dist-packages (from aiohttp->openai==0.28) (6.0.5)\n",
            "Requirement already satisfied: yarl<2.0,>=1.0 in /usr/local/lib/python3.10/dist-packages (from aiohttp->openai==0.28) (1.9.4)\n",
            "Requirement already satisfied: async-timeout<5.0,>=4.0 in /usr/local/lib/python3.10/dist-packages (from aiohttp->openai==0.28) (4.0.3)\n",
            "Downloading openai-0.28.0-py3-none-any.whl (76 kB)\n",
            "\u001b[2K   \u001b[90m━━━━━━━━━━━━━━━━━━━━━━━━━━━━━━━━━━━━━━━━\u001b[0m \u001b[32m76.5/76.5 kB\u001b[0m \u001b[31m3.7 MB/s\u001b[0m eta \u001b[36m0:00:00\u001b[0m\n",
            "\u001b[?25hInstalling collected packages: openai\n",
            "Successfully installed openai-0.28.0\n"
          ]
        }
      ]
    },
    {
      "cell_type": "markdown",
      "source": [
        "## **Ensure the LLM dont know the exact answers for these questions**"
      ],
      "metadata": {
        "id": "iuZ9RU4MJtTB"
      }
    },
    {
      "cell_type": "code",
      "execution_count": 6,
      "metadata": {
        "colab": {
          "base_uri": "https://localhost:8080/"
        },
        "id": "yVyafJEXG2Tw",
        "outputId": "e346d246-805c-4028-c0bf-f73497656315"
      },
      "outputs": [
        {
          "output_type": "stream",
          "name": "stdout",
          "text": [
            "Prompt: Explain the unique properties of the crystal matrix used in the propulsion system of the starship Nebula-9.\n",
            "Response: I'm sorry, but the starship Nebula-9 is a fictional creation, so there are no actual unique properties of the crystal matrix used in its propulsion system. If you're interested in discussing real-world crystal matrices or propulsion systems, I'd be happy to help. Just let me know!\n",
            "\n",
            "Prompt: Describe the political structure of the underground city of Narok in the book 'The Hidden Empire'.\n",
            "Response: Sorry, but I could not find any specific information about the underground city of Narok in the book \"The Hidden Empire.\" If you provide me with more details or context, I may be able to help you further.\n",
            "\n",
            "Prompt: What are the primary components and their functions in the Quantum Flux Capacitor invented by Dr. Zylor in 2145?\n",
            "Response: I'm sorry, but the Quantum Flux Capacitor and its inventor, Dr. Zylor, are fictional and not based on any scientific facts or technologies. The concept you mentioned seems to be inspired by science fiction, especially the \"flux capacitor\" from the \"Back to the Future\" movie series. If you want, I can provide some information about the flux capacitor from the movies. Would you like to know more about that instead?\n",
            "\n",
            "Dataset generation complete.\n"
          ]
        }
      ],
      "source": [
        "import openai\n",
        "import time\n",
        "from google.colab import userdata\n",
        "# Set your OpenAI API key\n",
        "openai.api_key = userdata.get('OPENAI_API_KEY')\n",
        "\n",
        "\n",
        "# List of prompts to generate responses for\n",
        "prompts = [\n",
        "    \"Explain the unique properties of the crystal matrix used in the propulsion system of the starship Nebula-9.\",\n",
        "    \"Describe the political structure of the underground city of Narok in the book 'The Hidden Empire'.\",\n",
        "    \"What are the primary components and their functions in the Quantum Flux Capacitor invented by Dr. Zylor in 2145?\",\n",
        "]\n",
        "\n",
        "# Function to generate response using OpenAI API\n",
        "def generate_response(prompt):\n",
        "    try:\n",
        "        response = openai.ChatCompletion.create(\n",
        "            model=\"gpt-3.5-turbo\",\n",
        "            messages=[\n",
        "                {\"role\": \"system\", \"content\": \"You are a helpful assistant.\"},\n",
        "                {\"role\": \"user\", \"content\": prompt}\n",
        "            ],\n",
        "            max_tokens=150\n",
        "        )\n",
        "        return response['choices'][0]['message']['content'].strip()\n",
        "    except Exception as e:\n",
        "        print(f\"Error generating response for prompt '{prompt}': {e}\")\n",
        "        return \"\"\n",
        "\n",
        "# Generate and print dataset\n",
        "for prompt in prompts:\n",
        "    response = generate_response(prompt)\n",
        "    print(f\"Prompt: {prompt}\")\n",
        "    print(f\"Response: {response}\\n\")\n",
        "    time.sleep(1)\n",
        "\n",
        "print(\"Dataset generation complete.\")\n"
      ]
    },
    {
      "cell_type": "markdown",
      "source": [
        "## **Training Dataset**"
      ],
      "metadata": {
        "id": "kdEQ26cRJeD_"
      }
    },
    {
      "cell_type": "code",
      "source": [
        "exact_responses = [\n",
        "    {\n",
        "        \"prompt\": \"Explain the unique properties of the crystal matrix used in the propulsion system of the starship Nebula-9.\",\n",
        "        \"response\": \"The crystal matrix in the propulsion system of the starship Nebula-9 is composed of rare Zynthium crystals, known for their ability to channel and amplify energy. These crystals have a unique lattice structure that allows for efficient energy transfer with minimal loss. This property enables the starship to achieve faster-than-light travel by harnessing and stabilizing quantum fluctuations within the propulsion chamber.\"\n",
        "    },\n",
        "    {\n",
        "        \"prompt\": \"Describe the political structure of the underground city of Narok in the book 'The Hidden Empire'.\",\n",
        "        \"response\": \"In 'The Hidden Empire', the underground city of Narok operates under a tri-council system, where three main factions share power: the Engineers' Guild, the Scholars' Assembly, and the Guardians' Order. Each faction is responsible for different aspects of city management. The Engineers' Guild oversees infrastructure and technological advancements, the Scholars' Assembly manages education and research, and the Guardians' Order ensures security and law enforcement. Decisions are made through a majority vote in the tri-council meetings.\"\n",
        "    },\n",
        "    {\n",
        "        \"prompt\": \"What are the primary components and their functions in the Quantum Flux Capacitor invented by Dr. Zylor in 2145?\",\n",
        "        \"response\": \"The Quantum Flux Capacitor, invented by Dr. Zylor in 2145, consists of three primary components: the Quantum Stabilizer, the Energy Reservoir, and the Temporal Modulator. The Quantum Stabilizer maintains the integrity of quantum states during energy transfer. The Energy Reservoir stores and supplies the necessary power for the device. The Temporal Modulator controls the flow of quantum energy, allowing for precise manipulation of time-related phenomena. Together, these components enable the Quantum Flux Capacitor to facilitate time travel and other advanced temporal operations.\"\n",
        "    },\n",
        "]"
      ],
      "metadata": {
        "id": "GZ1jX9ZUJUDI"
      },
      "execution_count": null,
      "outputs": []
    }
  ]
}